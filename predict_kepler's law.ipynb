{
 "cells": [
  {
   "cell_type": "markdown",
   "metadata": {},
   "source": [
    "Kepler's 3rd law:\n",
    "\n",
    "$T^{2} = R^{3}$ \n",
    "when T is measured in years and R is measured in AU"
   ]
  },
  {
   "cell_type": "code",
   "execution_count": 1,
   "metadata": {},
   "outputs": [],
   "source": [
    "import numpy as np\n",
    "import pandas as pd"
   ]
  },
  {
   "cell_type": "code",
   "execution_count": 2,
   "metadata": {},
   "outputs": [],
   "source": [
    "def obtain_R(T): # Find average radius(R) of an orbit given the time period(T)\n",
    "    R_cube = T**2\n",
    "    R = np.round(R_cube**(1./3), 5)\n",
    "    return R"
   ]
  },
  {
   "cell_type": "code",
   "execution_count": 3,
   "metadata": {},
   "outputs": [
    {
     "data": {
      "text/plain": [
       "array([188.95243191, 351.20419265,  18.02903068, ...,  10.24508159,\n",
       "       631.72791807, 920.82947734])"
      ]
     },
     "execution_count": 3,
     "metadata": {},
     "output_type": "execute_result"
    }
   ],
   "source": [
    "x = np.random.uniform(0,1000,100000) #Genrate 100000 random time period values between 0 and 100\n",
    "x"
   ]
  },
  {
   "cell_type": "code",
   "execution_count": 4,
   "metadata": {},
   "outputs": [
    {
     "data": {
      "text/plain": [
       "array([32.92823, 49.77827,  6.87567, ...,  4.71712, 73.62411, 94.64975])"
      ]
     },
     "execution_count": 4,
     "metadata": {},
     "output_type": "execute_result"
    }
   ],
   "source": [
    "y = obtain_R(x) # Obtain avg. radius of orbit(R) for each of the 100000 generated time period values\n",
    "y"
   ]
  },
  {
   "cell_type": "code",
   "execution_count": 5,
   "metadata": {},
   "outputs": [],
   "source": [
    "x= x.reshape(100000,1)\n",
    "y = y.reshape(100000,1)"
   ]
  },
  {
   "cell_type": "code",
   "execution_count": 6,
   "metadata": {},
   "outputs": [],
   "source": [
    "import tensorflow as tf\n",
    "import matplotlib.pyplot as plt"
   ]
  },
  {
   "cell_type": "code",
   "execution_count": 7,
   "metadata": {},
   "outputs": [
    {
     "data": {
      "text/plain": [
       "(None, 1)"
      ]
     },
     "execution_count": 7,
     "metadata": {},
     "output_type": "execute_result"
    }
   ],
   "source": [
    "# Construct regression model\n",
    "model = tf.keras.models.Sequential()\n",
    "model.add(tf.keras.Input(shape=(1,)))\n",
    "model.add(tf.keras.layers.Dense(256, activation='relu'))\n",
    "model.add(tf.keras.layers.Dense(128))\n",
    "model.add(tf.keras.layers.Dense(64))\n",
    "model.add(tf.keras.layers.Dense(32))\n",
    "model.add(tf.keras.layers.Dense(1))\n",
    "model.output_shape"
   ]
  },
  {
   "cell_type": "code",
   "execution_count": 8,
   "metadata": {},
   "outputs": [],
   "source": [
    "model.compile(loss='mean_absolute_error',\n",
    "              optimizer=tf.keras.optimizers.Adam(0.001))"
   ]
  },
  {
   "cell_type": "code",
   "execution_count": 9,
   "metadata": {},
   "outputs": [
    {
     "name": "stdout",
     "output_type": "stream",
     "text": [
      "Model: \"sequential\"\n",
      "_________________________________________________________________\n",
      "Layer (type)                 Output Shape              Param #   \n",
      "=================================================================\n",
      "dense (Dense)                (None, 256)               512       \n",
      "_________________________________________________________________\n",
      "dense_1 (Dense)              (None, 128)               32896     \n",
      "_________________________________________________________________\n",
      "dense_2 (Dense)              (None, 64)                8256      \n",
      "_________________________________________________________________\n",
      "dense_3 (Dense)              (None, 32)                2080      \n",
      "_________________________________________________________________\n",
      "dense_4 (Dense)              (None, 1)                 33        \n",
      "=================================================================\n",
      "Total params: 43,777\n",
      "Trainable params: 43,777\n",
      "Non-trainable params: 0\n",
      "_________________________________________________________________\n"
     ]
    }
   ],
   "source": [
    "model.summary()"
   ]
  },
  {
   "cell_type": "code",
   "execution_count": 10,
   "metadata": {},
   "outputs": [
    {
     "name": "stdout",
     "output_type": "stream",
     "text": [
      "Epoch 1/50\n",
      "2500/2500 [==============================] - 9s 3ms/step - loss: 6.4346 - val_loss: 2.0505\n",
      "Epoch 2/50\n",
      "2500/2500 [==============================] - 6s 2ms/step - loss: 1.9568 - val_loss: 1.7978\n",
      "Epoch 3/50\n",
      "2500/2500 [==============================] - 9s 4ms/step - loss: 1.2322 - val_loss: 0.9413\n",
      "Epoch 4/50\n",
      "2500/2500 [==============================] - 9s 4ms/step - loss: 0.8917 - val_loss: 0.5053\n",
      "Epoch 5/50\n",
      "2500/2500 [==============================] - 8s 3ms/step - loss: 0.7165 - val_loss: 1.1344\n",
      "Epoch 6/50\n",
      "2500/2500 [==============================] - 11s 4ms/step - loss: 0.6837 - val_loss: 0.2453\n",
      "Epoch 7/50\n",
      "2500/2500 [==============================] - 10s 4ms/step - loss: 0.6063 - val_loss: 0.5556\n",
      "Epoch 8/50\n",
      "2500/2500 [==============================] - 11s 4ms/step - loss: 0.5209 - val_loss: 0.6346\n",
      "Epoch 9/50\n",
      "2500/2500 [==============================] - 9s 4ms/step - loss: 0.5631 - val_loss: 0.1107\n",
      "Epoch 10/50\n",
      "2500/2500 [==============================] - 7s 3ms/step - loss: 0.4456 - val_loss: 0.9049\n",
      "Epoch 11/50\n",
      "2500/2500 [==============================] - 5s 2ms/step - loss: 0.4489 - val_loss: 0.2820\n",
      "Epoch 12/50\n",
      "2500/2500 [==============================] - 6s 3ms/step - loss: 0.3973 - val_loss: 0.1294\n",
      "Epoch 13/50\n",
      "2500/2500 [==============================] - 5s 2ms/step - loss: 0.3372 - val_loss: 0.5872\n",
      "Epoch 14/50\n",
      "2500/2500 [==============================] - 5s 2ms/step - loss: 0.3414 - val_loss: 0.1808\n",
      "Epoch 15/50\n",
      "2500/2500 [==============================] - 5s 2ms/step - loss: 0.3538 - val_loss: 0.1008\n",
      "Epoch 16/50\n",
      "2500/2500 [==============================] - 5s 2ms/step - loss: 0.3216 - val_loss: 0.5092\n",
      "Epoch 17/50\n",
      "2500/2500 [==============================] - 5s 2ms/step - loss: 0.2934 - val_loss: 0.1846\n",
      "Epoch 18/50\n",
      "2500/2500 [==============================] - 5s 2ms/step - loss: 0.2937 - val_loss: 0.9514\n",
      "Epoch 19/50\n",
      "2500/2500 [==============================] - 5s 2ms/step - loss: 0.2675 - val_loss: 0.3127\n",
      "Epoch 20/50\n",
      "2500/2500 [==============================] - 5s 2ms/step - loss: 0.2916 - val_loss: 0.1878\n",
      "Epoch 21/50\n",
      "2500/2500 [==============================] - 5s 2ms/step - loss: 0.2735 - val_loss: 0.1640\n",
      "Epoch 22/50\n",
      "2500/2500 [==============================] - 5s 2ms/step - loss: 0.2513 - val_loss: 0.1081\n",
      "Epoch 23/50\n",
      "2500/2500 [==============================] - 5s 2ms/step - loss: 0.2818 - val_loss: 0.2507\n",
      "Epoch 24/50\n",
      "2500/2500 [==============================] - 5s 2ms/step - loss: 0.2616 - val_loss: 0.2509\n",
      "Epoch 25/50\n",
      "2500/2500 [==============================] - 5s 2ms/step - loss: 0.2268 - val_loss: 0.1791\n",
      "Epoch 26/50\n",
      "2500/2500 [==============================] - 7s 3ms/step - loss: 0.2377 - val_loss: 0.0826\n",
      "Epoch 27/50\n",
      "2500/2500 [==============================] - 7s 3ms/step - loss: 0.2406 - val_loss: 0.1697\n",
      "Epoch 28/50\n",
      "2500/2500 [==============================] - 8s 3ms/step - loss: 0.2141 - val_loss: 0.4255\n",
      "Epoch 29/50\n",
      "2500/2500 [==============================] - 8s 3ms/step - loss: 0.2314 - val_loss: 0.2022\n",
      "Epoch 30/50\n",
      "2500/2500 [==============================] - 8s 3ms/step - loss: 0.2213 - val_loss: 0.2243\n",
      "Epoch 31/50\n",
      "2500/2500 [==============================] - 10s 4ms/step - loss: 0.2006 - val_loss: 0.1317\n",
      "Epoch 32/50\n",
      "2500/2500 [==============================] - 11s 4ms/step - loss: 0.2070 - val_loss: 0.2005\n",
      "Epoch 33/50\n",
      "2500/2500 [==============================] - 7s 3ms/step - loss: 0.2323 - val_loss: 0.3012\n",
      "Epoch 34/50\n",
      "2500/2500 [==============================] - 6s 2ms/step - loss: 0.2147 - val_loss: 0.2543\n",
      "Epoch 35/50\n",
      "2500/2500 [==============================] - 6s 2ms/step - loss: 0.2050 - val_loss: 0.2244\n",
      "Epoch 36/50\n",
      "2500/2500 [==============================] - 6s 3ms/step - loss: 0.2052 - val_loss: 0.1747\n",
      "Epoch 37/50\n",
      "2500/2500 [==============================] - 6s 2ms/step - loss: 0.1887 - val_loss: 0.2582\n",
      "Epoch 38/50\n",
      "2500/2500 [==============================] - 6s 2ms/step - loss: 0.1982 - val_loss: 0.2158\n",
      "Epoch 39/50\n",
      "2500/2500 [==============================] - 7s 3ms/step - loss: 0.2280 - val_loss: 0.1211\n",
      "Epoch 40/50\n",
      "2500/2500 [==============================] - 6s 3ms/step - loss: 0.1793 - val_loss: 0.0654\n",
      "Epoch 41/50\n",
      "2500/2500 [==============================] - 6s 3ms/step - loss: 0.1833 - val_loss: 0.2085\n",
      "Epoch 42/50\n",
      "2500/2500 [==============================] - 6s 3ms/step - loss: 0.2075 - val_loss: 0.1103\n",
      "Epoch 43/50\n",
      "2500/2500 [==============================] - 7s 3ms/step - loss: 0.1969 - val_loss: 0.1705\n",
      "Epoch 44/50\n",
      "2500/2500 [==============================] - 6s 3ms/step - loss: 0.2062 - val_loss: 0.4598\n",
      "Epoch 45/50\n",
      "2500/2500 [==============================] - 7s 3ms/step - loss: 0.1721 - val_loss: 0.1117\n",
      "Epoch 46/50\n",
      "2500/2500 [==============================] - 6s 3ms/step - loss: 0.1960 - val_loss: 0.1489\n",
      "Epoch 47/50\n",
      "2500/2500 [==============================] - 6s 3ms/step - loss: 0.1685 - val_loss: 0.0764\n",
      "Epoch 48/50\n",
      "2500/2500 [==============================] - 7s 3ms/step - loss: 0.1638 - val_loss: 0.0903\n",
      "Epoch 49/50\n",
      "2500/2500 [==============================] - 7s 3ms/step - loss: 0.1697 - val_loss: 0.2567\n",
      "Epoch 50/50\n",
      "2500/2500 [==============================] - 7s 3ms/step - loss: 0.1715 - val_loss: 0.1774\n"
     ]
    }
   ],
   "source": [
    "# Train model\n",
    "history = model.fit(\n",
    "          x, y,\n",
    "          validation_split=0.2,\n",
    "          epochs=50)"
   ]
  },
  {
   "cell_type": "code",
   "execution_count": 11,
   "metadata": {},
   "outputs": [],
   "source": [
    "def plot_loss(history):\n",
    "  plt.plot(history.history['loss'], label='loss')\n",
    "  plt.plot(history.history['val_loss'], label='val_loss')\n",
    "  plt.ylim([0, 5])\n",
    "  plt.xlabel('Epoch')\n",
    "  plt.ylabel('Error [MPG]')\n",
    "  plt.legend()\n",
    "  plt.grid(True)"
   ]
  },
  {
   "cell_type": "code",
   "execution_count": 12,
   "metadata": {},
   "outputs": [
    {
     "data": {
      "image/png": "[encoded data removed]",
      "text/plain": [
       "<Figure size 432x288 with 1 Axes>"
      ]
     },
     "metadata": {
      "needs_background": "light"
     },
     "output_type": "display_data"
    }
   ],
   "source": [
    "plot_loss(history)"
   ]
  },
  {
   "cell_type": "markdown",
   "metadata": {},
   "source": [
    "This model is trained to reduce mean absolute error(MAE). MAE is the average difference between the predicted and true values"
   ]
  },
  {
   "cell_type": "markdown",
   "metadata": {},
   "source": [
    "$MAE = \\frac{\\sum \\limits_{i=1}^{n} |y_{i}-x_{i}|}{n}$"
   ]
  },
  {
   "cell_type": "code",
   "execution_count": 13,
   "metadata": {},
   "outputs": [
    {
     "name": "stdout",
     "output_type": "stream",
     "text": [
      "Mean absolute error of model:  0.25668907165527344\n"
     ]
    }
   ],
   "source": [
    "print(\"Mean absolute error of model: \", history.history['val_loss'][-2])"
   ]
  },
  {
   "cell_type": "code",
   "execution_count": 14,
   "metadata": {},
   "outputs": [],
   "source": [
    "a = tf.linspace(0.0, 250, 251)\n",
    "b = obtain_R(a)"
   ]
  },
  {
   "cell_type": "code",
   "execution_count": 15,
   "metadata": {},
   "outputs": [],
   "source": [
    "def plot_predictions(x, y):\n",
    "  plt.scatter(x, y, label='Data')\n",
    "  p = model.predict(x)\n",
    "  plt.plot(x, p, color='k', label='Predictions')\n",
    "  plt.xlabel('T (Time period of orbit in yrs)')\n",
    "  plt.ylabel('R (Average radius of orbit in AU)')\n",
    "  plt.legend()"
   ]
  },
  {
   "cell_type": "code",
   "execution_count": 16,
   "metadata": {},
   "outputs": [
    {
     "data": {
      "image/png": "[encoded data removed]",
      "text/plain": [
       "<Figure size 432x288 with 1 Axes>"
      ]
     },
     "metadata": {
      "needs_background": "light"
     },
     "output_type": "display_data"
    }
   ],
   "source": [
    "plot_predictions(a,b)"
   ]
  },
  {
   "cell_type": "markdown",
   "metadata": {},
   "source": [
    "The blue dots in the plot are data points fed into the ML model, and the black line is the predicted vaue for each of them"
   ]
  },
  {
   "cell_type": "markdown",
   "metadata": {},
   "source": [
    "Predicting for earth:"
   ]
  },
  {
   "cell_type": "code",
   "execution_count": 17,
   "metadata": {},
   "outputs": [
    {
     "name": "stdout",
     "output_type": "stream",
     "text": [
      "Actual dist. of eath from sun: 1 AU\n",
      "Dist. predicted:  0.9034554 AU\n"
     ]
    }
   ],
   "source": [
    "T_earth = [1] #in years\n",
    "R_earth = model.predict(T_earth) #True value: 1 AU\n",
    "print(\"Actual dist. of eath from sun: 1 AU\")\n",
    "print(\"Dist. predicted: \", R_earth[0][0], \"AU\")"
   ]
  },
  {
   "cell_type": "markdown",
   "metadata": {},
   "source": [
    "Predicting for jupiter:"
   ]
  },
  {
   "cell_type": "code",
   "execution_count": 18,
   "metadata": {},
   "outputs": [
    {
     "name": "stdout",
     "output_type": "stream",
     "text": [
      "Actual dist. of jupiter from sun: 5.203 AU\n",
      "Dist. predicted:  5.0907764 AU\n"
     ]
    }
   ],
   "source": [
    "T_jupiter = [11.86] #in years\n",
    "R_jupiter = model.predict(T_jupiter) #True value: 5.2 AU\n",
    "print(\"Actual dist. of jupiter from sun: 5.2 AU\")\n",
    "print(\"Dist. predicted: \", R_jupiter[0][0], \"AU\")"
   ]
  },
  {
   "cell_type": "code",
   "execution_count": 19,
   "metadata": {},
   "outputs": [],
   "source": [
    "model.save('kepler_model.h5')"
   ]
  },
  {
   "cell_type": "code",
   "execution_count": null,
   "metadata": {},
   "outputs": [],
   "source": []
  }
 ],
 "metadata": {
  "interpreter": {
   "hash": "5a96aa8c5f4433cacbe5a880ede39887ec76216669898aab751e1c3f13f43913"
  },
  "kernelspec": {
   "display_name": "Python 3.8.5 64-bit ('covid-detect-pip': conda)",
   "name": "python3"
  },
  "language_info": {
   "codemirror_mode": {
    "name": "ipython",
    "version": 3
   },
   "file_extension": ".py",
   "mimetype": "text/x-python",
   "name": "python",
   "nbconvert_exporter": "python",
   "pygments_lexer": "ipython3",
   "version": "3.8.5"
  },
  "orig_nbformat": 4
 },
 "nbformat": 4,
 "nbformat_minor": 2
}